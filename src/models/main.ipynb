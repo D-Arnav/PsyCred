{
 "cells": [
  {
   "cell_type": "code",
   "execution_count": null,
   "metadata": {},
   "outputs": [],
   "source": [
    "class User:\n",
    "    def __init__(self, age, education, pincode):\n",
    "        self.age = age\n",
    "        self.education = education\n",
    "        self.pincode = pincode\n",
    "        self.state = None\n",
    "        self.district = None\n",
    "\n",
    "\n",
    "    def fetch_state(self):\n",
    "        pass\n",
    "\n",
    "    def fetch_district(self):\n",
    "        pass\n",
    "\n",
    "    def fetch_data(self):\n",
    "        self.fetch_state()\n",
    "        self.fetch_district()\n",
    "\n",
    "class Database:\n",
    "    def __init__(self):\n",
    "        self.db = []\n",
    "\n",
    "    def add_user(self, user):\n",
    "        self.db.append(user)"
   ]
  }
 ],
 "metadata": {
  "language_info": {
   "name": "python"
  }
 },
 "nbformat": 4,
 "nbformat_minor": 2
}
