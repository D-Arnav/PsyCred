{
 "cells": [
  {
   "cell_type": "code",
   "execution_count": 14,
   "metadata": {},
   "outputs": [
    {
     "name": "stdout",
     "output_type": "stream",
     "text": [
      "state='Andhra Pradesh', population='84,580,777', growth='10.98 %', literacy='67.02'\n"
     ]
    },
    {
     "data": {
      "text/plain": [
       "'Andhra Pradesh'"
      ]
     },
     "execution_count": 14,
     "metadata": {},
     "output_type": "execute_result"
    }
   ],
   "source": [
    "from bs4 import BeautifulSoup\n",
    "import requests\n",
    "\n",
    "class User:\n",
    "    def __init__(self, age, education, pincode):\n",
    "        self.age = age\n",
    "        self.education = education\n",
    "        self.pincode = pincode\n",
    "        self.district_literacy = None        \n",
    "        self.district = None    \n",
    "\n",
    "\n",
    "    def fetch_state_district(self):\n",
    "        response = requests.get(f\"https://api.postalpincode.in/pincode/{self.pincode}\")\n",
    "        content = response.json()[0]['PostOffice'][0]\n",
    "        self.state = content['State']\n",
    "        if self.state == 'Telangana':\n",
    "            self.state = 'Andhra Pradesh'\n",
    "        self.district = content['District']\n",
    "\n",
    "\n",
    "    def fetch_state_literacy(self):\n",
    "        url = 'https://www.census2011.co.in/states.php'\n",
    "        page = requests.get(url)\n",
    "        soup = BeautifulSoup(page.content, \"html.parser\")\n",
    "        table = soup.find('table')\n",
    "        rows = table.findAll('tr')\n",
    "        for row in rows[2:]:\n",
    "            row_data = row.findAll('td')\n",
    "\n",
    "            state = row_data[1].text\n",
    "            population = row_data[2].text\n",
    "            growth = row_data[3].text\n",
    "            literacy = row_data[7].text \n",
    "            \n",
    "            if state.lower() == self.state.lower():\n",
    "                print(f\"{state=}, {population=}, {growth=}, {literacy=}\")\n",
    "\n",
    "            self.\n",
    "\n",
    "    def fetch_district_literacy(self):\n",
    "        url = 'https://www.census2011.co.in/district.php'\n",
    "    \n",
    "\n",
    "class Database:\n",
    "    def __init__(self):\n",
    "        self.db = []\n",
    "\n",
    "    def add_user(self, user):\n",
    "        self.db.append(user)\n",
    "\n",
    "user = User(10, \"H\", 500049)\n",
    "user.fetch_state_district()\n",
    "user.fetch_state_literacy()\n",
    "user.state\n"
   ]
  },
  {
   "cell_type": "code",
   "execution_count": 31,
   "metadata": {},
   "outputs": [
    {
     "data": {
      "text/plain": [
       "('Telangana', 'K.V.Rangareddy')"
      ]
     },
     "execution_count": 31,
     "metadata": {},
     "output_type": "execute_result"
    }
   ],
   "source": []
  }
 ],
 "metadata": {
  "kernelspec": {
   "display_name": "Python 3",
   "language": "python",
   "name": "python3"
  },
  "language_info": {
   "codemirror_mode": {
    "name": "ipython",
    "version": 3
   },
   "file_extension": ".py",
   "mimetype": "text/x-python",
   "name": "python",
   "nbconvert_exporter": "python",
   "pygments_lexer": "ipython3",
   "version": "3.11.9"
  }
 },
 "nbformat": 4,
 "nbformat_minor": 2
}
